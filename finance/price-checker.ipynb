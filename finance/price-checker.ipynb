{
 "cells": [
  {
   "cell_type": "markdown",
   "metadata": {},
   "source": [
    "# Portfolio Price Analytics"
   ]
  },
  {
   "cell_type": "markdown",
   "metadata": {},
   "source": [
    "This iPython notebook serves to provide simple but important stock price insights using stock portfolio history data from the excel file located in the same directory. It imports real-time stock data using the yahoo-finance python module and is uses simple difference analysis to see which shares are doing well. \n",
    "https://pypi.python.org/pypi/yahoo-finance  "
   ]
  },
  {
   "cell_type": "code",
   "execution_count": null,
   "metadata": {},
   "outputs": [],
   "source": [
    "import pandas as pd\n",
    "import yahoo_finance # https://pypi.python.org/pypi/yahoo-finance, https://github.com/lukaszbanasiak/yahoo-finance\n",
    "import matplotlib.pyplot as plt \n",
    "%matplotlib inline\n",
    "%pylab inline\n",
    "#pylab.rcParams['figure.figsize'] = (12, 6)   # Change the size of plots\n",
    "import seaborn as sns\n",
    "sns.set(color_codes=True)\n",
    "\n",
    "#cheat sheets \n",
    "# http://www.webpages.uidaho.edu/~stevel/504/Pandas%20DataFrame%20Notes.pdf"
   ]
  },
  {
   "cell_type": "code",
   "execution_count": null,
   "metadata": {},
   "outputs": [],
   "source": [
    "#import personal data from portfolio.xlsx\n",
    "raw_data = pd.read_excel('portfolio.xlsx')\n",
    "stock_data = raw_data.set_index(\"stock\")\n",
    "stock_data"
   ]
  },
  {
   "cell_type": "code",
   "execution_count": null,
   "metadata": {},
   "outputs": [],
   "source": [
    "# Get prices from Yahoo-Finance \n",
    "shares = [yahoo_finance.Share(str(stock)) for stock in stock_data.index]\n",
    "current_prices = [share.get_price() for share in shares]\n",
    "stock_prices = {str(k): float(v) for k, v in zip(stock_data.index, current_prices)}\n",
    "print (stock_prices)"
   ]
  },
  {
   "cell_type": "code",
   "execution_count": null,
   "metadata": {},
   "outputs": [],
   "source": [
    "df2 = pd.DataFrame({'price_paid' : stock_data['price-paid'], \n",
    "                    'current_price': [float(price) for price in current_prices],\n",
    "                    'quantity' : stock_data['quantity']\n",
    "                    })\n",
    "\n",
    "price_differentials = [(x - y) for x, y in zip(df2['current_price'], df2['price_paid'])]\n",
    "df2.insert(0, 'stock', stock_data.index)\n",
    "df2.insert(3, 'price_diff', price_differentials)\n",
    "df2.insert(5, 'values', df2['current_price']*df2['quantity'])\n",
    "df2.insert(6, 'total_invested', df2['price_paid']*df2['quantity'])\n",
    "df2.insert(7, 'profit', stock_data['quantity'] * df2['price_diff'])\n",
    "master_data = df2.set_index('stock')\n",
    "master_data"
   ]
  },
  {
   "cell_type": "code",
   "execution_count": null,
   "metadata": {},
   "outputs": [],
   "source": [
    "stock = master_data['values'].sum()\n",
    "\n",
    "def totalAssets(df3, not_invested): \n",
    "    return master_data['total_invested'].sum() + not_invested\n",
    "\n",
    "buying_power = .02\n",
    "totalAssets = totalAssets(stock_data, buying_power)\n",
    "\n",
    "df = pd.DataFrame({'total_assets':  [totalAssets], \n",
    "                    'stock_valuation':  [stock]})\n",
    "df"
   ]
  },
  {
   "cell_type": "code",
   "execution_count": null,
   "metadata": {},
   "outputs": [],
   "source": [
    "master_data['profit'].plot(kind='bar', color= 'teal'); plt.axhline(0, color='k')"
   ]
  },
  {
   "cell_type": "code",
   "execution_count": null,
   "metadata": {},
   "outputs": [],
   "source": [
    "profit = 0\n",
    "positive_profit = 0 \n",
    "print ('stocks I can sell:')\n",
    "for stock in master_data.index:\n",
    "    value = master_data.at[str(stock), 'profit']\n",
    "    profit += value\n",
    "    if (value > 0): positive_profit+= value\n",
    "    if (value > 0): print (stock, 'profit would be:', '$', value)\n",
    "     \n",
    "print('positive stock profit:', '$',positive_profit)\n",
    "\n",
    "print()        \n",
    "if profit < 0: print ('rip, you have a negative portfolio')\n",
    "else: print('Dude nice! Positive Portfolio boys!')\n",
    "print ('expected profit: ', profit)"
   ]
  },
  {
   "cell_type": "code",
   "execution_count": null,
   "metadata": {
    "collapsed": true
   },
   "outputs": [],
   "source": []
  },
  {
   "cell_type": "code",
   "execution_count": null,
   "metadata": {
    "collapsed": true
   },
   "outputs": [],
   "source": []
  }
 ],
 "metadata": {
  "kernelspec": {
   "display_name": "Python 3",
   "language": "python",
   "name": "python3"
  },
  "language_info": {
   "codemirror_mode": {
    "name": "ipython",
    "version": 3
   },
   "file_extension": ".py",
   "mimetype": "text/x-python",
   "name": "python",
   "nbconvert_exporter": "python",
   "pygments_lexer": "ipython3",
   "version": "3.6.0"
  }
 },
 "nbformat": 4,
 "nbformat_minor": 2
}
